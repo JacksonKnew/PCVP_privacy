{
 "cells": [
  {
   "cell_type": "markdown",
   "metadata": {},
   "source": [
    "# Privacy"
   ]
  },
  {
   "cell_type": "markdown",
   "metadata": {},
   "source": [
    "### Data Import"
   ]
  },
  {
   "cell_type": "code",
   "execution_count": 2,
   "metadata": {},
   "outputs": [],
   "source": [
    "import matplotlib.pyplot as plt\n",
    "import numpy as np\n",
    "import pandas as pd\n",
    "import seaborn as sns\n",
    "import random\n",
    "from mbi import FactoredInference"
   ]
  },
  {
   "cell_type": "code",
   "execution_count": 23,
   "metadata": {},
   "outputs": [
    {
     "ename": "AssertionError",
     "evalue": "('age',) not contained in domain",
     "output_type": "error",
     "traceback": [
      "\u001b[0;31m---------------------------------------------------------------------------\u001b[0m",
      "\u001b[0;31mAssertionError\u001b[0m                            Traceback (most recent call last)",
      "Cell \u001b[0;32mIn[23], line 23\u001b[0m\n\u001b[1;32m     21\u001b[0m     measurement_log\u001b[38;5;241m.\u001b[39mappend((identity(M_c\u001b[38;5;241m.\u001b[39msize) , y_c , \u001b[38;5;241m50\u001b[39m , c ))\n\u001b[1;32m     22\u001b[0m engine \u001b[38;5;241m=\u001b[39m FactoredInference(Domain(adult[queries[\u001b[38;5;241m0\u001b[39m]], adult[queries[\u001b[38;5;241m0\u001b[39m]]))\n\u001b[0;32m---> 23\u001b[0m model \u001b[38;5;241m=\u001b[39m \u001b[43mengine\u001b[49m\u001b[38;5;241;43m.\u001b[39;49m\u001b[43mestimate\u001b[49m\u001b[43m(\u001b[49m\u001b[43mmeasurement_log\u001b[49m\u001b[43m)\u001b[49m\n\u001b[1;32m     24\u001b[0m synth \u001b[38;5;241m=\u001b[39m model\u001b[38;5;241m.\u001b[39msynthetic_data()\n",
      "File \u001b[0;32m~/miniconda3/lib/python3.11/site-packages/mbi/inference.py:70\u001b[0m, in \u001b[0;36mFactoredInference.estimate\u001b[0;34m(self, measurements, total, engine, callback, options)\u001b[0m\n\u001b[1;32m     50\u001b[0m \u001b[38;5;28;01mdef\u001b[39;00m \u001b[38;5;21mestimate\u001b[39m(\u001b[38;5;28mself\u001b[39m, measurements, total \u001b[38;5;241m=\u001b[39m \u001b[38;5;28;01mNone\u001b[39;00m, engine\u001b[38;5;241m=\u001b[39m\u001b[38;5;124m'\u001b[39m\u001b[38;5;124mMD\u001b[39m\u001b[38;5;124m'\u001b[39m, callback\u001b[38;5;241m=\u001b[39m\u001b[38;5;28;01mNone\u001b[39;00m, options \u001b[38;5;241m=\u001b[39m {}):\n\u001b[1;32m     51\u001b[0m \u001b[38;5;250m    \u001b[39m\u001b[38;5;124;03m\"\"\" \u001b[39;00m\n\u001b[1;32m     52\u001b[0m \u001b[38;5;124;03m    Estimate a GraphicalModel from the given measurements\u001b[39;00m\n\u001b[1;32m     53\u001b[0m \n\u001b[0;32m   (...)\u001b[0m\n\u001b[1;32m     68\u001b[0m \u001b[38;5;124;03m    :return model: A GraphicalModel that best matches the measurements taken\u001b[39;00m\n\u001b[1;32m     69\u001b[0m \u001b[38;5;124;03m    \"\"\"\u001b[39;00m\n\u001b[0;32m---> 70\u001b[0m     measurements \u001b[38;5;241m=\u001b[39m \u001b[38;5;28;43mself\u001b[39;49m\u001b[38;5;241;43m.\u001b[39;49m\u001b[43mfix_measurements\u001b[49m\u001b[43m(\u001b[49m\u001b[43mmeasurements\u001b[49m\u001b[43m)\u001b[49m\n\u001b[1;32m     71\u001b[0m     options[\u001b[38;5;124m'\u001b[39m\u001b[38;5;124mcallback\u001b[39m\u001b[38;5;124m'\u001b[39m] \u001b[38;5;241m=\u001b[39m callback\n\u001b[1;32m     72\u001b[0m     \u001b[38;5;28;01mif\u001b[39;00m callback \u001b[38;5;129;01mis\u001b[39;00m \u001b[38;5;28;01mNone\u001b[39;00m \u001b[38;5;129;01mand\u001b[39;00m \u001b[38;5;28mself\u001b[39m\u001b[38;5;241m.\u001b[39mlog:\n",
      "File \u001b[0;32m~/miniconda3/lib/python3.11/site-packages/mbi/inference.py:97\u001b[0m, in \u001b[0;36mFactoredInference.fix_measurements\u001b[0;34m(self, measurements)\u001b[0m\n\u001b[1;32m     95\u001b[0m     Q \u001b[38;5;241m=\u001b[39m sparse\u001b[38;5;241m.\u001b[39meye(\u001b[38;5;28mself\u001b[39m\u001b[38;5;241m.\u001b[39mdomain\u001b[38;5;241m.\u001b[39msize(proj))\n\u001b[1;32m     96\u001b[0m \u001b[38;5;28;01massert\u001b[39;00m np\u001b[38;5;241m.\u001b[39misscalar(noise), \u001b[38;5;124m'\u001b[39m\u001b[38;5;124mnoise must be a real value, given \u001b[39m\u001b[38;5;124m'\u001b[39m \u001b[38;5;241m+\u001b[39m \u001b[38;5;28mstr\u001b[39m(noise)\n\u001b[0;32m---> 97\u001b[0m \u001b[38;5;28;01massert\u001b[39;00m \u001b[38;5;28mall\u001b[39m(a \u001b[38;5;129;01min\u001b[39;00m \u001b[38;5;28mself\u001b[39m\u001b[38;5;241m.\u001b[39mdomain \u001b[38;5;28;01mfor\u001b[39;00m a \u001b[38;5;129;01min\u001b[39;00m proj), \u001b[38;5;28mstr\u001b[39m(proj) \u001b[38;5;241m+\u001b[39m \u001b[38;5;124m'\u001b[39m\u001b[38;5;124m not contained in domain\u001b[39m\u001b[38;5;124m'\u001b[39m\n\u001b[1;32m     98\u001b[0m \u001b[38;5;28;01massert\u001b[39;00m Q\u001b[38;5;241m.\u001b[39mshape[\u001b[38;5;241m1\u001b[39m] \u001b[38;5;241m==\u001b[39m \u001b[38;5;28mself\u001b[39m\u001b[38;5;241m.\u001b[39mdomain\u001b[38;5;241m.\u001b[39msize(proj), \u001b[38;5;124m'\u001b[39m\u001b[38;5;124mshapes of Q and proj are not compatible\u001b[39m\u001b[38;5;124m'\u001b[39m\n\u001b[1;32m     99\u001b[0m ans\u001b[38;5;241m.\u001b[39mappend( (Q, y, noise, proj) )\n",
      "\u001b[0;31mAssertionError\u001b[0m: ('age',) not contained in domain"
     ]
    }
   ],
   "source": [
    "from mbi import Dataset, Domain, FactoredInference\n",
    "from scipy.sparse import identity\n",
    "from numpy.random import normal\n",
    "\n",
    "url = './data/adult.data'\n",
    "\n",
    "names = ['age', 'workclass', 'fnlwgt', 'education', 'education-num',\n",
    "         'marital-status', 'occupation', 'relationship', 'race',\n",
    "         'gender', 'capital-gain', 'capital-loss', 'hours-per-week',\n",
    "         'native-country', 'income']\n",
    "\n",
    "adult = pd.read_csv(url, sep=',\\s+', header=None, names=names, na_values='?', engine='python', skipinitialspace=True)\n",
    "\n",
    "adult.dropna(inplace=True)\n",
    "\n",
    "queries = [\"age\", \"education-num\"]\n",
    "measurement_log = []\n",
    "for c in queries :\n",
    "    M_c = adult[c].values\n",
    "    y_c = M_c + normal(loc =0 , scale = 50 , size = M_c.shape)\n",
    "    measurement_log.append((identity(M_c.size) , y_c , 50 , c ))\n",
    "engine = FactoredInference(Domain(adult[queries[0]], adult[queries[0]]))\n",
    "model = engine.estimate(measurement_log)\n",
    "synth = model.synthetic_data()"
   ]
  },
  {
   "cell_type": "markdown",
   "metadata": {},
   "source": [
    "## Privacy Model"
   ]
  },
  {
   "cell_type": "markdown",
   "metadata": {},
   "source": [
    "#### We want to satisfy $\\epsilon$-differencial privacy for the count query based on the age\n",
    "\n",
    "For Example: Knowing Bob is a 45, the presence of Bob in the dataset should not be information tha is recoverable from the queries we execute.\n",
    "\n",
    "To ensure this, we want to verify that given:\n",
    "* D dataset without Bob\n",
    "* D' dataset with Bob\n",
    "* q query function\n",
    "* c a result for the count query\n",
    "\n",
    "> $P(q(D) = c) \\le e^\\epsilon * P(q(D') = c)$ and $P(q(D') = c) \\le e^\\epsilon * P(q(D) = c)$"
   ]
  },
  {
   "cell_type": "markdown",
   "metadata": {},
   "source": [
    "## Implementation"
   ]
  },
  {
   "cell_type": "markdown",
   "metadata": {},
   "source": [
    "### Utils definition"
   ]
  },
  {
   "cell_type": "code",
   "execution_count": 16,
   "metadata": {},
   "outputs": [],
   "source": [
    "## Config\n",
    "\n",
    "EPSILON = 0.1"
   ]
  },
  {
   "cell_type": "code",
   "execution_count": 17,
   "metadata": {},
   "outputs": [],
   "source": [
    "def laplace(ecart_type):\n",
    "    r = random.random() - 0.5\n",
    "    sgn = 1 if r >= 0 else -1\n",
    "    return ecart_type * sgn * np.log(1 - 2 * abs(r))\n",
    "\n",
    "def disturb_result(res, epsilon, sensitivity):\n",
    "    return res + laplace(sensitivity/epsilon)"
   ]
  },
  {
   "cell_type": "markdown",
   "metadata": {},
   "source": [
    "### Query function"
   ]
  },
  {
   "cell_type": "code",
   "execution_count": 20,
   "metadata": {},
   "outputs": [],
   "source": [
    "def query_count(lower_bound, upper_bound):\n",
    "    _hidden_result = adult[(adult[\"age\"] <= upper_bound) & (adult[\"age\"] >= lower_bound)].shape[0]\n",
    "    result = disturb_result(_hidden_result, EPSILON, 1)\n",
    "    return round(result)"
   ]
  },
  {
   "cell_type": "markdown",
   "metadata": {},
   "source": [
    "### Graphing of results"
   ]
  },
  {
   "cell_type": "code",
   "execution_count": 104,
   "metadata": {},
   "outputs": [
    {
     "data": {
      "image/png": "[encoded data removed]",
      "text/plain": [
       "<Figure size 640x480 with 1 Axes>"
      ]
     },
     "metadata": {},
     "output_type": "display_data"
    }
   ],
   "source": [
    "query_results = [query_count(40, 50) for _ in range(1000)]\n",
    "\n",
    "plt.hist(query_results, bins = range(7400, 7600, 5));"
   ]
  }
 ],
 "metadata": {
  "kernelspec": {
   "display_name": "Python 3 (ipykernel)",
   "language": "python",
   "name": "python3"
  },
  "language_info": {
   "codemirror_mode": {
    "name": "ipython",
    "version": 3
   },
   "file_extension": ".py",
   "mimetype": "text/x-python",
   "name": "python",
   "nbconvert_exporter": "python",
   "pygments_lexer": "ipython3",
   "version": "3.11.5"
  }
 },
 "nbformat": 4,
 "nbformat_minor": 4
}
